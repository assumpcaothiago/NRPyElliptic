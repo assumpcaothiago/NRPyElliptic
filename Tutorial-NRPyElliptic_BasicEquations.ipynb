{
 "cells": [
  {
   "cell_type": "markdown",
   "id": "pacific-feelings",
   "metadata": {},
   "source": [
    "<script async src=\"https://www.googletagmanager.com/gtag/js?id=UA-59152712-8\"></script>\n",
    "<script>\n",
    "  window.dataLayer = window.dataLayer || [];\n",
    "  function gtag(){dataLayer.push(arguments);}\n",
    "  gtag('js', new Date());\n",
    "\n",
    "  gtag('config', 'UA-59152712-8');\n",
    "</script>\n",
    "\n",
    "# Implementation of the NRPyElliptic solver in ***curvilinear*** coordinates, using a reference metric formalism\n",
    "\n",
    "\n",
    "## Author: Thiago Assumpção\n",
    "\n",
    "**Notebook Status:** <font color='green'><b> Validated </b></font>\n",
    "\n",
    "**Validation Notes:** This tutorial notebook has been confirmed to be self-consistent with its corresponding NRPy+ module, as documented [below](#code_validation).\n",
    "\n",
    "### NRPy+ Source Code for this module: [NRPyElliptic_codegen/NRPyElliptic_RHSs.py](../edit/NRPyElliptic_codegen/NRPyElliptic_RHSs.py) and [NRPyElliptic_codegen/NRPyElliptic_SourceTerm.py](../edit/NRPyElliptic_codegen/NRPyElliptic_SourceTerm.py)"
   ]
  },
  {
   "cell_type": "markdown",
   "id": "checked-watson",
   "metadata": {},
   "source": [
    "<a id='toc'></a>\n",
    "\n",
    "# Table of Contents\n",
    "$$\\label{toc}$$\n",
    "\n",
    "This notebook is organized as follows\n",
    "\n",
    "0. [Introduction](#intro): The ``NRPyElliptic`` code\n",
    "    1. [Intro. a](#initial_data): Basic equations\n",
    "    1. [Intro. b](#hyper_relax): Hyperbolized Hamiltonian constraint equation\n",
    "1. [Step 1](#params): Importing necessary modules and defining physical parameters\n",
    "1. [Step 2](#coord): Setting up coordinate system and reference metric\n",
    "1. [Step 3](#add_times_auu): Computing contraction of conformal extrinsic curvature $\\tilde{A}_{ij}\\tilde{A}^{ij}$ \n",
    "    1. [Step 3.a](#vu): Computing vector field $\\vec{V}$\n",
    "    1. [Step 3.b](#add): Computing extrinsic curvature $\\tilde{A}_{ij}$\n",
    "    1. [Step 3.c](#add_auu): Computing $\\tilde{A}_{ij} \\tilde{A}^{ij}$\n",
    "1. [Step 4](#psi_singular): Computing $\\psi_{\\rm singular}$\n",
    "1. [Step 5](#rhss): Computing the RHSs\n",
    "1. [Step 6](#code_validation): Code validation against `NRPyElliptic.NRPyElliptic_RHSs` and `NRPyElliptic.NRPyElliptic_SourceTerm`  NRPy+ modules\n",
    "    1. [Step 6.a](#code_validation_sourceterm): Code validation against `NRPyElliptic.NRPyElliptic_SourceTerm` NRPy+ module \n",
    "    1. [Step 6.b](#code_validation_rhss): Code validation against `NRPyElliptic.NRPyElliptic_RHSs` NRPy+ module   \n",
    "1. [Step 7](#latex_pdf_output): Output this notebook to $\\LaTeX$-formatted PDF file"
   ]
  },
  {
   "cell_type": "markdown",
   "id": "dutch-awareness",
   "metadata": {},
   "source": [
    "<a id='intro'></a>\n",
    "\n",
    "# Introduction: The ``NRPyElliptic`` code \\[Back to [top](#toc)\\]\n",
    "$$\\label{intro}$$"
   ]
  },
  {
   "cell_type": "markdown",
   "id": "nasty-rocket",
   "metadata": {},
   "source": [
    "``NRPyElliptic`` [[Assumpcao et. al., arXiv:gr-qc/2111.02424](https://arxiv.org/abs/2111.02424)] is a new, extensible elliptic solver that sets up initial data (ID) for numerical relativity (NR) using the same numerical methods employed for solving hyperbolic evolution equations. Specifically, ``NRPyElliptic`` implements the hyperbolic relaxation method of [[Rüter et. al., arXiv:gr-qc/1708.07358](https://arxiv.org/abs/1708.07358)] to solve complex nonlinear elliptic PDEs for NR ID. The hyperbolic PDEs are evolved forward in (pseudo)time, resulting in an exponential relaxation of the arbitrary initial guess to a steady state that coincides with the solution of the elliptic system. ``NRPyElliptic`` solves these equations on highly efficient numerical grids exploiting underlying symmetries in the physical scenario. To this end, ``NRPyElliptic`` is built within the [SymPy](https://peerj.com/articles/cs-103/)-based [``NRPy+``](https://nrpyplus.net/) framework, which facilitates the solution of hyperbolic PDEs on Cartesian-like, spherical-like, cylindrical-like, or bispherical-like numerical grids. For the purposes of setting up BBH puncture ID, ``NRPyElliptic`` makes use of the latter."
   ]
  },
  {
   "cell_type": "markdown",
   "id": "numeric-fight",
   "metadata": {},
   "source": [
    "<a id='initial_data'></a>\n",
    "\n",
    "# Puncture initial data: basic equations \\[Back to [top](#toc)\\]\n",
    "$$\\label{initial_data}$$"
   ]
  },
  {
   "cell_type": "markdown",
   "id": "introductory-novelty",
   "metadata": {},
   "source": [
    "For completeness, I include a brief description of binary pucture initial data below. Feel free to skip this section if you are only interested in the implementation of the equations.\n",
    "\n",
    "$\\newcommand{\\ttilde}[1]{\\mathbf{\\tilde{\\text{$#1$}}}}$\n",
    "In the limit of vacuum (e.g., BBH) spacetimes, the Hamiltonian\n",
    "and momentum constraint equations can be written as (see, e.g., [Cook, arXiv:gr-qc/0007085](https://arxiv.org/abs/gr-qc/0007085) and references therein)\n",
    "\\begin{align}\n",
    "\\label{eqn:hamiltonian_constraint}\n",
    "\\mathcal{H} &\\equiv R + K^2 - K_{ij} K^{ij} = 0 \\,, \\\\\n",
    "\\label{eqn:momentum_constraint}\n",
    "\\mathcal{M}^{i} &\\equiv \\nabla_{j}(K^{ij} - \\gamma^{ij}K) = 0 \\,,\n",
    "\\end{align}\n",
    "where $\\gamma_{ij}$ is the 3-metric, $R$ is the 3-Ricci scalar, $\\nabla_{i}$ is the covariant derivative compatible with the 3-metric, $K_{ij}$ is the extrinsic curvature, and $K\\equiv\\gamma^{ij}K_{ij}$\n",
    "is the mean curvature. Setting up ID for vacuum spacetimes in numerical\n",
    "relativity generally involves solving these constraints, which exist as second-order nonlinear\n",
    "elliptic PDEs.\n",
    "\n",
    "For the purposes of this tutorial, we will focus on the puncture ID\n",
    "formalism, in which a set of simplifying assumptions is applied to these\n",
    "constraints, known as the conformal transverse-traceless (CTT) decomposition"
   ]
  },
  {
   "cell_type": "markdown",
   "id": "positive-admission",
   "metadata": {},
   "source": [
    "<a id='punct_ID_and_CTT'></a>\n",
    "\n",
    "## Puncture initial data and the conformal transverse-traceless (CTT) formalism \\[Back to [top](#toc)\\]\n",
    "$$\\label{punct_ID_and_CTT}$$"
   ]
  },
  {
   "cell_type": "markdown",
   "id": "computational-norwegian",
   "metadata": {},
   "source": [
    "It is useful to define a\n",
    "conformally related $3$-metric $\\ttilde{\\gamma}_{ij}$ via\n",
    "\\begin{equation}\n",
    "\\gamma_{ij} = \\psi^4 \\ttilde{\\gamma}_{ij} \\,,\n",
    "\\end{equation}\n",
    "where the scalar function $\\psi$ is known as the conformal factor. We adorn geometric quantities associated with $\\ttilde{\\gamma}_{ij}$ with a tilde diacritic."
   ]
  },
  {
   "cell_type": "markdown",
   "id": "racial-mainland",
   "metadata": {},
   "source": [
    "Under the CTT formalism, the Hamiltonian and momentum constraint equations become  (see, e.g., [Numerical Relativity: Solving Einstein's Equations on the Computer](https://www.cambridge.org/us/academic/subjects/physics/astrophysics/numerical-relativity-solving-einsteins-equations-computer?format=HB) for a pedagogical introduction)\n",
    "\\begin{align}\n",
    "\\ttilde{\\nabla}^2 \\psi - \\frac{1}{8}\\psi \\ttilde{R} - \\frac{1}{12}\\psi^5 K^2 + \\frac{1}{8}\\psi^{-7} \\ttilde{A}_{ij} \\ttilde{A}^{ij} &= 0 \\,, \\\\\n",
    "\\ttilde{\\Delta}_{\\mathbb{L}} V^i - \\frac{2}{3} \\psi^6 \\ttilde{\\nabla}^i K + \\ttilde{\\nabla}_j \\ttilde{M}^{ij} &= 0 \\,,\\label{eq:MU_cttd}\n",
    "\\end{align}\n",
    "\n",
    "where $\\ttilde{R}$ is the conformal Ricci scalar and the operator $\\ttilde{\\Delta}_{\\mathbb{L}}$ is defined as\n",
    "\n",
    "\\begin{equation}\n",
    "\\ttilde{\\Delta}_{\\mathbb{L}} V^i \\equiv \\ttilde{\\nabla}_j (\\ttilde{\\mathbb{L}} V)^ {ij} =  \\ttilde{\\nabla}^2 V^i + \\frac{1}{3} \\ttilde{\\nabla}^i(\\ttilde{\\nabla}_j V^j) + \\ttilde{R}^{i}_{\\ j} V^j \\,.\n",
    "\\end{equation}\n",
    "\n",
    "The quantity $\\ttilde{A}_{ij} \\equiv \\psi^{2}{A}_{ij}$ is the conformal traceless extrinsic curvature, where \n",
    "$$\n",
    "K_{ij} = A_{ij} + \\frac{1}{3} \\gamma_{ij} K \\,.\n",
    "$$\n",
    "\n",
    "\n",
    "\n",
    "The degrees of freedom in this formulation include choice of $\\ttilde{M}^{ij}$, $K$, and $\\ttilde\\gamma_{ij}$. Here we consider puncture ID, which assume maximal slicing ($K = 0$),\n",
    "asymptotic flatness ($\\psi|_{r\\to\\infty}=1$), and conformal flatness\n",
    "\\begin{equation}\n",
    "\\ttilde\\gamma_{ij} = \\hat\\gamma_{ij}\\,,\n",
    "  \\label{eq:BY_confflatness}\n",
    "\\end{equation}\n",
    "\n",
    "where $\\hat\\gamma_{ij}$ is the flat spatial metric. In addition the assumption\n",
    "$\\ttilde{M}^{ij} = 0$ is made, yielding Hamiltonian and momentum constraint equations of the form [[Ansorg et. al., arXiv:gr-qc/0404056](https://arxiv.org/abs/gr-qc/0404056)]\n",
    "\\begin{align}\n",
    "\\label{eqn:hamiltonian_constraint_v2}\n",
    "\\hat{\\nabla}^2 \\psi + \\frac{1}{8}\\psi^{-7} \\ttilde{A}_{ij} \\ttilde{A}^{ij} &= 0 \\,, \\\\\n",
    "\\label{eqn:momentum_constraint_v2}\n",
    "\\hat{\\nabla}^2 V^i + \\frac{1}{3} \\hat{\\nabla}^i (\\hat{\\nabla}_j V^j) + \\hat{R}^{i}_{\\ j} V^j &= 0\\,,\n",
    "\\end{align}\n",
    "\n",
    "where $\\hat\\nabla_{i}$ is the covariant derivative compatible with\n",
    "$\\hat\\gamma_{ij}$. Bowen and York [[Phys. Rev. D 21, 2047 (1980)](https://journals.aps.org/prd/abstract/10.1103/PhysRevD.21.2047)] showed hat the\n",
    "momentum constraint is solved\n",
    "for a set of $N_p$ punctures with a\n",
    "closed-form expression for the extrinsic curvature. This expression\n",
    "can be written in terms of $\\vec{V}$ as follows\n",
    "\n",
    "\\begin{equation}\n",
    "    \\vec{V} = \\sum_{n=1}^{N_p}\n",
    "\\left(\n",
    "- \\frac{7}{4 |\\vec{x}_n|} \\vec{P}_n\n",
    "- \\frac{\\vec{x}_n {\\cdot} \\vec{P}_n}{4 |\\vec{x}_n|^3} \\vec{x}_n\n",
    "+ \\frac{1}{|\\vec{x}_n|^3} \\vec{x}_n {\\times} \\vec{S}_n\n",
    "\\right),\n",
    "\\end{equation}\n",
    "\n",
    "where $\\vec{x}_n = (x_n - x, y_n - y, z_n - z)$, $\\vec{P}_n$, and\n",
    "$\\vec{S}_n$ are the displacement relative to the origin (i.e., $(x,y,z)=(0,0,0)$), linear momentum, and\n",
    "spin angular momentum of puncture $n$, respectively.\n",
    "\n",
    "The Hamiltonian constraint equation must be solved numerically, but $\\psi$ becoming singular at\n",
    "the location of each puncture could spoil the numerical solution. We split the\n",
    "conformal factor into a singular and a non-singular piece [[Phys. Rev. Lett. 78, 3606 (1997)](https://journals.aps.org/prl/abstract/10.1103/PhysRevLett.78.3606)],\n",
    "\n",
    "\\begin{equation}\n",
    "\\psi = \\psi_{\\rm singular} + u \\equiv 1 + \\sum_{n=1}^{N_p} \\frac{m_{n}}{2|\\vec{x}_{n} |} + u \\,,\n",
    "\\end{equation}\n",
    "\n",
    "where $m_n$ is the bare mass of the $n^{\\rm{th}}$ puncture. The\n",
    "Hamiltonian constraint equation, which can then be solved for the\n",
    "non-singular part $u$, reads\n",
    "\n",
    "\\begin{equation}\n",
    "\\hat{\\nabla}^2 u + \\frac{1}{8} \\ttilde{A}_{ij} \\ttilde{A}^{ij} (\\psi_{\\rm singular} +  u)^{-7} = 0 \\,,\n",
    "\\end{equation}\n",
    "\n",
    "since the Laplacian of the singular piece vanishes."
   ]
  },
  {
   "cell_type": "markdown",
   "id": "automated-maryland",
   "metadata": {},
   "source": [
    "<a id='hyper_relax'></a>\n",
    "\n",
    "# Hyperbolic relaxation method: Hyperbolized Hamiltonian constraint equation \\[Back to [top](#toc)\\]\n",
    "$$\\label{hyper_relax}$$"
   ]
  },
  {
   "cell_type": "markdown",
   "id": "outer-prospect",
   "metadata": {},
   "source": [
    "A complete description of the method can be found at [[Assumpcao et. al., arXiv:gr-qc/2111.02424](https://arxiv.org/abs/2111.02424)] or [[Rüter et. al., arXiv:gr-qc/1708.07358](https://arxiv.org/abs/1708.07358)]. The hyperbolized Hamiltonian constraint equation is\n",
    "\n",
    "\\begin{equation}\n",
    "  \\boxed{\n",
    "    \\begin{aligned}\n",
    "      \\partial_{t}u &= v - \\eta u\\\\\n",
    "      \\partial_{t}v &= c^{2}\\biggl[\\ttilde\\nabla^{2}u + \\frac{1}{8}\\ttilde{A}_{ij}\\ttilde{A}^{ij}\\bigl(\\psi_{\\rm singular}+u\\bigr)^{-7}\\biggr]\n",
    "    \\end{aligned}\n",
    "  }\\ ,\n",
    "\\end{equation}\n",
    "\n",
    "where $\\eta$ is the damping parameter, $c$ is the wavespeed, and $v$ is an auxiliary variable so that the equation can be expressed as a first-order system. In the steady-state regime, in which $\\partial_{t}u = \\partial_{t}v = 0$, we recover the solution to the original elliptic equation (the RHS of the second equation)."
   ]
  },
  {
   "cell_type": "markdown",
   "id": "familiar-management",
   "metadata": {},
   "source": [
    "<a id='params'></a>\n",
    "\n",
    "# Step 1: Importing necessary modules and defining physical parameters \\[Back to [top](#toc)\\]\n",
    "$$\\label{params}$$"
   ]
  },
  {
   "cell_type": "code",
   "execution_count": 1,
   "id": "neutral-congress",
   "metadata": {},
   "outputs": [],
   "source": [
    "# Import needed NRPy+ core modules:\n",
    "import NRPy_param_funcs as par                # NRPy+: Parameter interface\n",
    "import grid as gri                            # NRPy+: Functionality for handling numerical grids\n",
    "import indexedexp as ixp                      # NRPy+: Symbolic indexed expression (e.g., tensors, vectors, etc.) support\n",
    "import reference_metric as rfm                # NRPy+: Reference metric support\n",
    "import sympy as sp                            # SymPy: The Python computer algebra package upon which NRPy+ depends"
   ]
  },
  {
   "cell_type": "code",
   "execution_count": 2,
   "id": "sufficient-london",
   "metadata": {},
   "outputs": [],
   "source": [
    "# Set dimension\n",
    "DIM = 3"
   ]
  },
  {
   "cell_type": "code",
   "execution_count": 3,
   "id": "cosmetic-environment",
   "metadata": {},
   "outputs": [],
   "source": [
    "# Set module name\n",
    "thismodule = __name__\n",
    "# Step 1a:  Define the C parameters. The variables are\n",
    "#           proper SymPy variables, so they can be\n",
    "#           used in below expressions. In the C code, they act\n",
    "#           just like usual parameters, whose value are\n",
    "#           specified in the parameter file.\n",
    "# Step 1: Define the C parameters for punctures.\n",
    "# Step 1a: Define bare masses\n",
    "bare_mass_0 = par.Cparameters(\"REAL\",thismodule,\"bare_mass_0\", 1.0)\n",
    "bare_mass_1 = par.Cparameters(\"REAL\",thismodule,\"bare_mass_1\", 1.0)\n",
    "# Step 1b.i: Define puncture 0 positions\n",
    "puncture_0_x = par.Cparameters(\"REAL\",thismodule,\"puncture_0_x\", 0.0)\n",
    "puncture_0_y = par.Cparameters(\"REAL\",thismodule,\"puncture_0_y\", 0.0)\n",
    "puncture_0_z = par.Cparameters(\"REAL\",thismodule,\"puncture_0_z\", 0.0)\n",
    "puncture_0 = [puncture_0_x, puncture_0_y, puncture_0_z] # define list with punctures\n",
    "# Step 1b.ii: Define puncture 1 positions\n",
    "puncture_1_x = par.Cparameters(\"REAL\",thismodule,\"puncture_1_x\", 0.0)\n",
    "puncture_1_y = par.Cparameters(\"REAL\",thismodule,\"puncture_1_y\", 0.0)\n",
    "puncture_1_z = par.Cparameters(\"REAL\",thismodule,\"puncture_1_z\", 0.0)\n",
    "puncture_1 = [puncture_1_x, puncture_1_y, puncture_1_z] # define list with punctures\n",
    "# Step 1c.i: Define linear momentum 0\n",
    "P0_x = par.Cparameters(\"REAL\",thismodule,\"P0_x\", 0.0)\n",
    "P0_y = par.Cparameters(\"REAL\",thismodule,\"P0_y\", 0.0)\n",
    "P0_z = par.Cparameters(\"REAL\",thismodule,\"P0_z\", 0.0)\n",
    "P0 = [P0_x, P0_y, P0_z] # define list with linear momenta\n",
    "# Step 1c.ii: Define linear momentum 1\n",
    "P1_x = par.Cparameters(\"REAL\",thismodule,\"P1_x\", 0.0)\n",
    "P1_y = par.Cparameters(\"REAL\",thismodule,\"P1_y\", 0.0)\n",
    "P1_z = par.Cparameters(\"REAL\",thismodule,\"P1_z\", 0.0)\n",
    "P1 = [P1_x, P1_y, P1_z] # define list with linear momenta\n",
    "# Step 1c.iii: Define linear momenta vectors\n",
    "PU = ixp.zerorank2()\n",
    "for i in range(DIM):\n",
    "    PU[0][i] = P0[i]\n",
    "    PU[1][i] = P1[i]\n",
    "# Step 1d.i: Define angular momentum 0\n",
    "S0_x = par.Cparameters(\"REAL\",thismodule,\"S0_x\", 0.0)\n",
    "S0_y = par.Cparameters(\"REAL\",thismodule,\"S0_y\", 0.0)\n",
    "S0_z = par.Cparameters(\"REAL\",thismodule,\"S0_z\", 0.2)\n",
    "S0 = [S0_x, S0_y, S0_z] # define list with angular momenta\n",
    "# Step 1d.ii: Define angular momentum 1\n",
    "S1_x = par.Cparameters(\"REAL\",thismodule,\"S1_x\", 0.0)\n",
    "S1_y = par.Cparameters(\"REAL\",thismodule,\"S1_y\", 0.0)\n",
    "S1_z = par.Cparameters(\"REAL\",thismodule,\"S1_z\", 0.0)\n",
    "S1 = [S1_x, S1_y, S1_z] # define list with angular momenta\n",
    "# Step 1d.iii: Define angular momenta vectors\n",
    "SU = ixp.zerorank2()\n",
    "for i in range(DIM):\n",
    "    SU[0][i] = S0[i]\n",
    "    SU[1][i] = S1[i]"
   ]
  },
  {
   "cell_type": "markdown",
   "id": "forbidden-staff",
   "metadata": {},
   "source": [
    "<a id='coord'></a>\n",
    "\n",
    "# Step 2: Setting up coordinate system and reference metric \\[Back to [top](#toc)\\]\n",
    "$$\\label{coord}$$"
   ]
  },
  {
   "cell_type": "code",
   "execution_count": 4,
   "id": "empty-brief",
   "metadata": {},
   "outputs": [],
   "source": [
    "# Step 2.a: Get the spatial dimension, defined in the\n",
    "#         NRPy+ \"grid\" module. With reference metrics,\n",
    "#         this must be set to 3 or fewer. As default, it is set to 3.\n",
    "DIM = par.parval_from_str(\"DIM\")\n",
    "# Step 2.b: Set the coordinate system for the numerical grid\n",
    "# Choices are: Spherical, SinhSpherical, SinhSphericalv2, Cylindrical, SinhCylindrical,\n",
    "#              SymTP, SinhSymTP\n",
    "CoordSystem     = \"SinhSymTP\"\n",
    "par.set_parval_from_str(\"reference_metric::CoordSystem\", CoordSystem)\n",
    "# Step 2.c Compute reference metric quantities\n",
    "rfm.reference_metric()\n",
    "# Step 2.d: Define grid\n",
    "xx = gri.xx\n",
    "# Step 2.e: Define Cartesian grid\n",
    "xxCart = rfm.Cart"
   ]
  },
  {
   "cell_type": "markdown",
   "id": "julian-lightning",
   "metadata": {},
   "source": [
    "Here we set the relative positions of each puncture ``xU[n]`` = $\\vec{x}_n = (x - x_n, y - y_n, z - z_n)$ in Cartesian coordinates:"
   ]
  },
  {
   "cell_type": "code",
   "execution_count": 5,
   "id": "viral-belfast",
   "metadata": {},
   "outputs": [],
   "source": [
    "# Step 2.f: Set relative positions of each puncture\n",
    "xU = ixp.zerorank2()\n",
    "for i in range(DIM):\n",
    "    xU[0][i] = xxCart[i] - puncture_0[i]\n",
    "    xU[1][i] = xxCart[i] - puncture_1[i]"
   ]
  },
  {
   "cell_type": "markdown",
   "id": "civilian-durham",
   "metadata": {},
   "source": [
    "<a id='add_times_auu'></a>\n",
    "\n",
    "# Step 3: Computing contraction of conformal extrinsic curvature $\\tilde{A}_{ij}\\tilde{A}^{ij}$ \\[Back to [top](#toc)\\]\n",
    "$$\\label{add_times_auu}$$"
   ]
  },
  {
   "cell_type": "markdown",
   "id": "secret-england",
   "metadata": {},
   "source": [
    "Since $\\ttilde{A}_{ij}\\ttilde{A}^{ij}$ is a scalar quantity, we compute it in Cartesian coordinates."
   ]
  },
  {
   "cell_type": "markdown",
   "id": "powered-hollow",
   "metadata": {},
   "source": [
    "<a id='vu'></a>\n",
    "\n",
    "## Step 3.a: Computing vector field $\\vec{V}$ \\[Back to [top](#toc)\\]\n",
    "$$\\label{vu}$$"
   ]
  },
  {
   "cell_type": "markdown",
   "id": "piano-hungary",
   "metadata": {},
   "source": [
    "We first define two functions for computing the dot product and the cross product between two vectors:"
   ]
  },
  {
   "cell_type": "code",
   "execution_count": 6,
   "id": "broke-saskatchewan",
   "metadata": {},
   "outputs": [],
   "source": [
    "# Step 3.a: Define dot and cross product of vectors\n",
    "def dot(vec1,vec2):\n",
    "    vec1_dot_vec2 = sp.sympify(0)\n",
    "    for i in range(3):\n",
    "        vec1_dot_vec2 += vec1[i]*vec2[i]\n",
    "    return vec1_dot_vec2\n",
    "def cross(vec1,vec2):\n",
    "    vec1_cross_vec2 = ixp.zerorank1()\n",
    "    LeviCivitaSymbol = ixp.LeviCivitaSymbol_dim3_rank3()\n",
    "    for i in range(3):\n",
    "        for j in range(3):\n",
    "            for k in range(3):\n",
    "                vec1_cross_vec2[i] += LeviCivitaSymbol[i][j][k]*vec1[j]*vec2[k]\n",
    "    return vec1_cross_vec2"
   ]
  },
  {
   "cell_type": "markdown",
   "id": "gross-nebraska",
   "metadata": {},
   "source": [
    "Defining function for a single puncuture:\n",
    "\\begin{equation}\n",
    "    \\vec{V}_n =\n",
    "- \\frac{7}{4 |\\vec{x}_n|} \\vec{P}_n\n",
    "- \\frac{\\vec{x}_n {\\cdot} \\vec{P}_n}{4 |\\vec{x}_n|^3} \\vec{x}_n\n",
    "+ \\frac{1}{|\\vec{x}_n|^3} \\vec{x}_n {\\times} \\vec{S}_n \\,.\n",
    "\\end{equation}"
   ]
  },
  {
   "cell_type": "code",
   "execution_count": 7,
   "id": "internal-communist",
   "metadata": {},
   "outputs": [],
   "source": [
    "def VU_cart_single_puncture(xU, PU, SU):\n",
    "    \"\"\"\n",
    "    xnU = position of n-th puncture\n",
    "    PnU = linear momentum of n-th puncture\n",
    "    SnU = spin of n-th puncture\n",
    "    \"\"\"\n",
    "    DIM = par.parval_from_str(\"DIM\")\n",
    "    r = sp.sympify(0)\n",
    "    for i in range(DIM):\n",
    "        r += sp.Pow(xU[i], 2)\n",
    "    r = sp.sqrt(r)\n",
    "\n",
    "    VU_cart = ixp.zerorank1()\n",
    "    for i in range(DIM):\n",
    "        VU_cart[i] += ( sp.Rational(-7, 4) * PU[i] / r\n",
    "                      + sp.Rational(-1, 4) * dot(xU, PU) * xU[i] / sp.Pow(r, 3)\n",
    "                      + cross(xU, SU)[i] / sp.Pow(r, 3) )\n",
    "    return VU_cart"
   ]
  },
  {
   "cell_type": "markdown",
   "id": "operational-projection",
   "metadata": {},
   "source": [
    "Now we compute the vector field $\\vec{V}$ for a superposition of two punctures:\n",
    "\\begin{equation}\n",
    "    \\vec{V} = \\sum_{n=1}^{2} \\vec{V}_n = \\sum_{n=1}^{2}\n",
    "\\left(\n",
    "- \\frac{7}{4 |\\vec{x}_n|} \\vec{P}_n\n",
    "- \\frac{\\vec{x}_n {\\cdot} \\vec{P}_n}{4 |\\vec{x}_n|^3} \\vec{x}_n\n",
    "+ \\frac{1}{|\\vec{x}_n|^3} \\vec{x}_n {\\times} \\vec{S}_n\n",
    "\\right).\n",
    "\\end{equation}"
   ]
  },
  {
   "cell_type": "code",
   "execution_count": 8,
   "id": "chinese-broadcasting",
   "metadata": {},
   "outputs": [],
   "source": [
    "def VU_cart_two_punctures(x0U, P0U, S0U, x1U, P1U, S1U):\n",
    "    \"\"\"\n",
    "    xnU = position of n-th puncture\n",
    "    PnU = linear momentum of n-th puncture\n",
    "    SnU = spin of n-th puncture\n",
    "    \"\"\"\n",
    "    V0U_cart = VU_cart_single_puncture(x0U, P0U, S0U)\n",
    "    V1U_cart = VU_cart_single_puncture(x1U, P1U, S1U)\n",
    "\n",
    "    VU_cart = ixp.zerorank1()\n",
    "    for i in range(DIM):\n",
    "        VU_cart[i] = V0U_cart[i] + V1U_cart[i]\n",
    "    return VU_cart"
   ]
  },
  {
   "cell_type": "markdown",
   "id": "framed-commons",
   "metadata": {},
   "source": [
    "<a id='add'></a>\n",
    "\n",
    "## Step 3.b: Computing extrinsic curvature $\\tilde{A}_{ij}$ \\[Back to [top](#toc)\\]\n",
    "$$\\label{add}$$"
   ]
  },
  {
   "cell_type": "markdown",
   "id": "meaningful-replacement",
   "metadata": {},
   "source": [
    "Since we chose $K=0$, it follows that $K_{ij} = A_{ij} = \\psi^{-2} \\tilde{A}_{ij}$. By virtue of Eq. (23) in [Ansorg et. al., arXiv:gr-qc/0404056](https://arxiv.org/abs/gr-qc/0404056), the conformal extrinsic curvature, in Cartesian coordinates, is\n",
    "\n",
    "$$\n",
    "    \\tilde{A}_{ij} = V_{i,j} + V_{j,i} - \\frac{2}{3} \\delta_{ij} \\text{div} (\\vec{V}) \\,.\n",
    "$$\n",
    "\n",
    "Let us now code up this quantity."
   ]
  },
  {
   "cell_type": "code",
   "execution_count": 9,
   "id": "developmental-implement",
   "metadata": {},
   "outputs": [],
   "source": [
    "def ADD_conf_cartesian(VU_cart):\n",
    "    \"\"\"\n",
    "    Input: vector VU in Cartesian coordinates\n",
    "\n",
    "    Output: Components of the conformally-related extrinsic\n",
    "            curvature in Cartesian coordinates with two lower indices\n",
    "    \"\"\"\n",
    "    DIM = par.parval_from_str(\"DIM\")\n",
    "\n",
    "    # Step 1: Define vector field V_i\n",
    "    #           In Cartesian coordinates, V_i = V^i\n",
    "    VD_cart = ixp.zerorank1()\n",
    "    for i in range(DIM):\n",
    "        VD_cart[i] = VU_cart[i]\n",
    "\n",
    "    # Step 2: Compute the derivatives: sp.diff(VD_cart[i], xxCart[j])\n",
    "    VD_cart_dD = ixp.zerorank2()\n",
    "    for i in range(DIM):\n",
    "        for j in range(DIM):\n",
    "            VD_cart_dD[i][j] = sp.diff(VD_cart[i], xxCart[j])\n",
    "\n",
    "    # Step 3: Compute the divergence\n",
    "    V_cart_div = sp.sympify(0)\n",
    "    for i in range(DIM):\n",
    "        V_cart_div += VD_cart_dD[i][i]\n",
    "\n",
    "    # Step 4: Define Kronecker delta symbol as a function\n",
    "    def kronecker_delta(i,j):\n",
    "        if (i==j):\n",
    "            return sp.sympify(1)\n",
    "        else:\n",
    "            return sp.sympify(0)\n",
    "\n",
    "    # Step 5: Compute the components of the conformally-related extrinsic curvature\n",
    "    #           in Cartesian coordinates with two lower indices, and return result\n",
    "    ADD_conf_cart = ixp.zerorank2()\n",
    "    for i in range(DIM):\n",
    "        for j in range(DIM):\n",
    "            ADD_conf_cart[i][j] = (VD_cart_dD[i][j] + VD_cart_dD[j][i]\n",
    "                                   - sp.Rational(2,3)*kronecker_delta(i,j)*V_cart_div)\n",
    "    return ADD_conf_cart"
   ]
  },
  {
   "cell_type": "markdown",
   "id": "logical-tennis",
   "metadata": {},
   "source": [
    "<a id='add_auu'></a>\n",
    "\n",
    "## Step 3.c: Computing $\\tilde{A}_{ij} \\tilde{A}^{ij}$ \\[Back to [top](#toc)\\]\n",
    "$$\\label{add_auu}$$"
   ]
  },
  {
   "cell_type": "markdown",
   "id": "collaborative-quarter",
   "metadata": {},
   "source": [
    "In a flat three-dimensional space representated by Cartesian coordinates, \n",
    "\n",
    "$$\n",
    "\\ttilde{A}^{ij} \\equiv \\ttilde{A}_{ij} \\,.\n",
    "$$\n"
   ]
  },
  {
   "cell_type": "code",
   "execution_count": 10,
   "id": "cloudy-treaty",
   "metadata": {},
   "outputs": [],
   "source": [
    "def ADD_times_AUU_conf_cartesian(ADD_conf_cart):\n",
    "    \"\"\"\n",
    "    Input: Components of the conformally-related extrinsic\n",
    "            curvature in Cartesian coordinates with two lower indices\n",
    "\n",
    "    Output: The contraction ADD_conf_cart[i][j]*ADD_conf_cart[i][j]\n",
    "    \"\"\"\n",
    "    ADD_times_AUU_conf_cart = sp.sympify(0)\n",
    "    for i in range(DIM):\n",
    "        for j in range(DIM):\n",
    "            ADD_times_AUU_conf_cart += ADD_conf_cart[i][j]*ADD_conf_cart[i][j]\n",
    "    return ADD_times_AUU_conf_cart"
   ]
  },
  {
   "cell_type": "markdown",
   "id": "amended-occasion",
   "metadata": {},
   "source": [
    "<a id='psi_singular'></a>\n",
    "\n",
    "# Step 4: Computing $\\psi_{\\rm singular}$ \\[Back to [top](#toc)\\]\n",
    "$$\\label{psi_singular}$$"
   ]
  },
  {
   "cell_type": "markdown",
   "id": "complicated-style",
   "metadata": {},
   "source": [
    "Computing the singular piece of the conformal factor, which is given by:\n",
    "\\begin{equation}\n",
    "\\psi_{\\rm singular} = 1 + \\sum_{n=1}^{2} \\frac{m_{n}}{2|\\vec{x}_{n} |} \\,.\n",
    "\\end{equation}\n",
    "\n",
    "Note: In the NRPyElliptic code, the singular piece of the conformal factor is referred to as `psi_background`."
   ]
  },
  {
   "cell_type": "code",
   "execution_count": 11,
   "id": "characteristic-cambridge",
   "metadata": {},
   "outputs": [],
   "source": [
    "def psi_background_cartesian (bare_mass_0, xU0, bare_mass_1, xU1):\n",
    "    \"\"\"\n",
    "    Inputs:\n",
    "        - bare mass of each puncture\n",
    "        - xnU = relative position of n-th puncture\n",
    "\n",
    "    Output: background conformal factor in Cartesian coordinates\n",
    "    \"\"\"\n",
    "    # Set grid dimension\n",
    "    DIM = par.parval_from_str(\"DIM\")\n",
    "\n",
    "    def psi_background_cartesian_single_puncture (bare_mass, xU):\n",
    "        # Compute distance of puncture from the origin\n",
    "        r = sp.sympify(0)\n",
    "        for i in range(DIM):\n",
    "            r += sp.Pow(xU[i], 2)\n",
    "        r = sp.sqrt(r)\n",
    "\n",
    "        return (bare_mass/(2*r))\n",
    "\n",
    "    psi_puncture_0 = psi_background_cartesian_single_puncture (bare_mass_0, xU0)\n",
    "    psi_puncture_1 = psi_background_cartesian_single_puncture (bare_mass_1, xU1)\n",
    "\n",
    "    return (1 + psi_puncture_0 + psi_puncture_1)"
   ]
  },
  {
   "cell_type": "markdown",
   "id": "modular-style",
   "metadata": {},
   "source": [
    "<a id='rhss'></a>\n",
    "\n",
    "# Step 5: Computing the RHSs \\[Back to [top](#toc)\\]\n",
    "$$\\label{rhss}$$"
   ]
  },
  {
   "cell_type": "markdown",
   "id": "lesser-watts",
   "metadata": {},
   "source": [
    "Recall that the hyperbolized Hamiltonian constraint equation can be written as a first-order system:\n",
    "\\begin{equation}\n",
    "  \\boxed{\n",
    "    \\begin{aligned}\n",
    "      \\partial_{t}u &= v - \\eta u\\\\\n",
    "      \\partial_{t}v &= c^{2}\\biggl[\\ttilde\\nabla^{2}u + \\frac{1}{8}\\ttilde{A}_{ij}\\ttilde{A}^{ij}\\bigl(\\psi_{\\rm singular}+u\\bigr)^{-7}\\biggr]\n",
    "    \\end{aligned}\n",
    "  }\\ .\n",
    "\\end{equation}\n",
    "Note that, for conformally flat spaces, $\\ttilde{\\gamma}_{ij} = \\hat{g}_{ij}$, which is simply the flat metric in the chosen coordinate system.\n",
    "\n",
    "Next, we implement these equations."
   ]
  },
  {
   "cell_type": "code",
   "execution_count": 12,
   "id": "answering-cover",
   "metadata": {},
   "outputs": [],
   "source": [
    "# Declare damping parameter\n",
    "eta_damping = par.Cparameters(\"REAL\",thismodule,\"eta_damping\", 1.0)\n",
    "# Declare spatially-dependent wavespeed as grid function\n",
    "wavespeed = gri.register_gridfunctions(\"AUXEVOL\", [\"wavespeed\"])\n",
    "# Declare psi_background and ADD_times_AUU\n",
    "psi_background, ADD_times_AUU = gri.register_gridfunctions(\"AUXEVOL\",[\"psi_background\",\"ADD_times_AUU\"])"
   ]
  },
  {
   "cell_type": "markdown",
   "id": "killing-boulder",
   "metadata": {},
   "source": [
    "The Laplacian operator is computed as follows:\n",
    "$$\n",
    "\\hat\\nabla^{2}u  =\n",
    "{\\underbrace {\\textstyle \\hat{g}^{ij} \\partial_{i} \\partial_{j} u}_{\\text{Part 1}}} \n",
    "{\\underbrace {\\textstyle -\\hat{\\Gamma}^i \\partial_i u}_{\\text{Part 2}}},\n",
    "$$\n",
    "where $\\hat{\\Gamma}^i = \\hat{g}^{ij}\\hat{\\Gamma}^k_{ij}$ are the contracted Christoffel symbols."
   ]
  },
  {
   "cell_type": "code",
   "execution_count": 13,
   "id": "killing-production",
   "metadata": {},
   "outputs": [],
   "source": [
    "# Step 1: Compute the contracted Christoffel symbols:\n",
    "contractedGammahatU = ixp.zerorank1()\n",
    "for k in range(DIM):\n",
    "    for i in range(DIM):\n",
    "        for j in range(DIM):\n",
    "            contractedGammahatU[k] += rfm.ghatUU[i][j] * rfm.GammahatUDD[k][i][j]\n",
    "\n",
    "# Step 2: Register gridfunctions that are needed as input\n",
    "#         to the scalar wave RHS expressions.\n",
    "uu, vv = gri.register_gridfunctions(\"EVOL\",[\"uu\",\"vv\"])\n",
    "\n",
    "# Step 3a: Declare the rank-1 indexed expression \\partial_{i} u,\n",
    "#          Derivative variables like these must have an underscore\n",
    "#          in them, so the finite difference module can parse the\n",
    "#          variable name properly.\n",
    "uu_dD = ixp.declarerank1(\"uu_dD\")\n",
    "\n",
    "# Step 3b: Declare the rank-2 indexed expression \\partial_{ij} u,\n",
    "#          which is symmetric about interchange of indices i and j\n",
    "#          Derivative variables like these must have an underscore\n",
    "#          in them, so the finite difference module can parse the\n",
    "#          variable name properly.\n",
    "uu_dDD = ixp.declarerank2(\"uu_dDD\",\"sym01\")\n",
    "\n",
    "# Step 4: Define right-hand sides for the evolution.\n",
    "uu_rhs = vv - eta_damping*uu\n",
    "# Step 4b: The right-hand side of the \\partial_t v equation\n",
    "#          is given by:\n",
    "#          \\hat{g}^{ij} \\partial_i \\partial_j u - \\hat{\\Gamma}^i \\partial_i u.\n",
    "#          ^^^^^^^^^^^^ PART 1 ^^^^^^^^^^^^^^^^ ^^^^^^^^^^ PART 2 ^^^^^^^^^^^\n",
    "vv_rhs = sp.sympify(0)\n",
    "for i in range(DIM):\n",
    "    # PART 2:\n",
    "    vv_rhs -= contractedGammahatU[i]*uu_dD[i]\n",
    "    for j in range(DIM):\n",
    "        # PART 1:\n",
    "        vv_rhs += rfm.ghatUU[i][j]*uu_dDD[i][j]\n",
    "\n",
    "# Add source term\n",
    "vv_rhs += sp.Rational(1,8)*ADD_times_AUU*sp.Pow(psi_background + uu, -7)\n",
    "\n",
    "# Include wavespeed\n",
    "vv_rhs *= wavespeed*wavespeed"
   ]
  },
  {
   "cell_type": "markdown",
   "id": "optional-intervention",
   "metadata": {},
   "source": [
    "<a id='code_validation'></a>\n",
    "\n",
    "# Step 6: Code validation against `NRPyElliptic.NRPyElliptic_SourceTerm` and `NRPyElliptic.NRPyElliptic_RHSs`  NRPy+ modules \\[Back to [top](#toc)\\]\n",
    "$$\\label{code_validation}$$"
   ]
  },
  {
   "cell_type": "markdown",
   "id": "traditional-board",
   "metadata": {},
   "source": [
    "We can validate the expressions implemented in this notebook against the trusted NRPy+ modules of the NRPyElliptic code. We will use the `check_zero()` function from NRPy+'s unit test suite. This functions checks if a symbolic expression equals $0$ by injecting several random numbers and computing the result using arbitrary-precision arithmetic."
   ]
  },
  {
   "cell_type": "code",
   "execution_count": 14,
   "id": "exterior-arrow",
   "metadata": {},
   "outputs": [],
   "source": [
    "from UnitTesting.assert_equal import check_zero # NRPy+: Symbolic expression verification"
   ]
  },
  {
   "cell_type": "markdown",
   "id": "amino-treat",
   "metadata": {},
   "source": [
    "<a id='code_validation_sourceterm'></a>\n",
    "\n",
    "## Step 6.a: Code validation against `NRPyElliptic.NRPyElliptic_SourceTerm` NRPy+ module \\[Back to [top](#toc)\\]\n",
    "$$\\label{code_validation_sourceterm}$$"
   ]
  },
  {
   "cell_type": "code",
   "execution_count": 15,
   "id": "violent-reaction",
   "metadata": {},
   "outputs": [],
   "source": [
    "# Import source term generation module\n",
    "import NRPyElliptic_codegen.NRPyElliptic_SourceTerm as puncsource"
   ]
  },
  {
   "cell_type": "code",
   "execution_count": 16,
   "id": "quantitative-seating",
   "metadata": {},
   "outputs": [],
   "source": [
    "# Compute singular piece of conformal metric (psi_background) and contraction of extrinsic curvature\n",
    "# Fisrt, using the imported module\n",
    "puncsource.PunctureInitialDataCurvilinear_psi_background_and_ADD_AUU_term()"
   ]
  },
  {
   "cell_type": "code",
   "execution_count": 17,
   "id": "exposed-adobe",
   "metadata": {},
   "outputs": [],
   "source": [
    "# Now with the expressions coded up in this notebook\n",
    "\n",
    "# Define vector field V_i\n",
    "VU_cart = VU_cart_two_punctures(xU[0], PU[0], SU[0], xU[1], PU[1], SU[1])\n",
    "\n",
    "# Step Define extrinsic curvature\n",
    "ADD_conf_cart = ADD_conf_cartesian(VU_cart)\n",
    "\n",
    "# Step Compute the scalar ADD*AUU in Cartesian coordinates\n",
    "ADD_times_AUU_conf_cart = ADD_times_AUU_conf_cartesian(ADD_conf_cart)\n",
    "\n",
    "# Define function to replace xxCart by the Cartesian coordinates expressed in curvilinear coordinates\n",
    "def replace_cart_coord_by_xx (src, DIM=3):\n",
    "    for k in range(DIM):\n",
    "        src = src.subs(rfm.Cart[k],rfm.xx_to_Cart[k])\n",
    "    return src\n",
    "\n",
    "# Step(?): Compute psi_background\n",
    "psi_background_cart = psi_background_cartesian (bare_mass_0, xU[0], bare_mass_1, xU[1])\n",
    "_psi_background = replace_cart_coord_by_xx(psi_background_cart)\n",
    "\n",
    "# Step(?): Compute ADD_times_AUU\n",
    "_ADD_times_AUU = replace_cart_coord_by_xx(ADD_times_AUU_conf_cart)"
   ]
  },
  {
   "cell_type": "code",
   "execution_count": 18,
   "id": "governmental-maker",
   "metadata": {},
   "outputs": [
    {
     "name": "stdout",
     "output_type": "stream",
     "text": [
      "psi_background validation test passed!\n",
      "ADD_times_AUU validation test passed!\n"
     ]
    }
   ],
   "source": [
    "# Check if expressions are in agreement\n",
    "if check_zero(_psi_background - puncsource.psi_background):\n",
    "    print(\"psi_background validation test passed!\")\n",
    "else:\n",
    "    print(\"psi_background validation test failed!\")\n",
    "    sys.exit(1)\n",
    "if check_zero(_ADD_times_AUU - puncsource.ADD_times_AUU):\n",
    "    print(\"ADD_times_AUU validation test passed!\")\n",
    "else:\n",
    "    print(\"ADD_times_AUU validation test failed!\")\n",
    "    sys.exit(1)"
   ]
  },
  {
   "cell_type": "markdown",
   "id": "removed-psychology",
   "metadata": {},
   "source": [
    "<a id='code_validation_rhss'></a>\n",
    "\n",
    "## Step 6.b: Code validation against `NRPyElliptic.NRPyElliptic_RHSs` NRPy+ module \\[Back to [top](#toc)\\]\n",
    "$$\\label{code_validation_rhss}$$"
   ]
  },
  {
   "cell_type": "code",
   "execution_count": 19,
   "id": "bound-freight",
   "metadata": {},
   "outputs": [],
   "source": [
    "# Import right-hand sides module.\n",
    "import NRPyElliptic_codegen.NRPyElliptic_RHSs as puncrhs\n",
    "# Reset the list of gridfunctions, as registering a gridfunction\n",
    "#   twice will spawn an error.\n",
    "gri.glb_gridfcs_list = []\n",
    "# Generate RHSs\n",
    "puncrhs.PunctureInitialDataCurvilinear_RHSs()"
   ]
  },
  {
   "cell_type": "code",
   "execution_count": 20,
   "id": "stainless-norway",
   "metadata": {},
   "outputs": [
    {
     "name": "stdout",
     "output_type": "stream",
     "text": [
      "uu_rhs validation test passed!\n",
      "vv_rhs validation test passed!\n"
     ]
    }
   ],
   "source": [
    "# Check if expressions are in agreement\n",
    "if check_zero(uu_rhs - puncrhs.uu_rhs):\n",
    "    print(\"uu_rhs validation test passed!\")\n",
    "else:\n",
    "    print(\"uu_rhs validation test failed!\")\n",
    "    sys.exit(1)\n",
    "if check_zero(vv_rhs - puncrhs.vv_rhs):\n",
    "    print(\"vv_rhs validation test passed!\")\n",
    "else:\n",
    "    print(\"vv_rhs validation test failed!\")\n",
    "    sys.exit(1)"
   ]
  },
  {
   "cell_type": "markdown",
   "id": "instructional-complement",
   "metadata": {},
   "source": [
    "<a id='latex_pdf_output'></a>\n",
    "\n",
    "# Step 7: Output this notebook to $\\LaTeX$-formatted PDF file \\[Back to [top](#toc)\\]\n",
    "$$\\label{latex_pdf_output}$$\n",
    "\n",
    "The following code cell converts this Jupyter notebook into a proper, clickable $\\LaTeX$-formatted PDF file. After the cell is successfully run, the generated PDF may be found in the root NRPy+ tutorial directory, with filename\n",
    "[Tutorial-NRPyElliptic_BasicEquations.pdf](Tutorial-NRPyElliptic_BasicEquations.pdf) (Note that clicking on this link may not work; you may need to open the PDF file through another means.)"
   ]
  },
  {
   "cell_type": "code",
   "execution_count": 21,
   "id": "appointed-netscape",
   "metadata": {},
   "outputs": [
    {
     "name": "stdout",
     "output_type": "stream",
     "text": [
      "Created Tutorial-NRPyElliptic_BasicEquations.tex, and compiled LaTeX file\n",
      "    to PDF file Tutorial-NRPyElliptic_BasicEquations.pdf\n"
     ]
    }
   ],
   "source": [
    "import cmdline_helper as cmd    # NRPy+: Multi-platform Python command-line interface\n",
    "cmd.output_Jupyter_notebook_to_LaTeXed_PDF(\"Tutorial-NRPyElliptic_BasicEquations\")"
   ]
  }
 ],
 "metadata": {
  "kernelspec": {
   "display_name": "Python 3 (ipykernel)",
   "language": "python",
   "name": "python3"
  },
  "language_info": {
   "codemirror_mode": {
    "name": "ipython",
    "version": 3
   },
   "file_extension": ".py",
   "mimetype": "text/x-python",
   "name": "python",
   "nbconvert_exporter": "python",
   "pygments_lexer": "ipython3",
   "version": "3.7.10"
  }
 },
 "nbformat": 4,
 "nbformat_minor": 5
}
